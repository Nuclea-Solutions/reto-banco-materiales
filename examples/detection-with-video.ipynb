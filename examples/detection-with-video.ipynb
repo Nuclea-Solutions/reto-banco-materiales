{
 "cells": [
  {
   "cell_type": "markdown",
   "metadata": {},
   "source": [
    "## Verificar que tenemos lo necesario para correr la inferencia"
   ]
  },
  {
   "cell_type": "code",
   "execution_count": null,
   "metadata": {},
   "outputs": [],
   "source": [
    "from IPython import display\n",
    "display.clear_output()\n",
    "\n",
    "import supervision as sv\n",
    "import ultralytics\n",
    "import numpy as np\n",
    "ultralytics.checks()"
   ]
  },
  {
   "cell_type": "code",
   "execution_count": 7,
   "metadata": {},
   "outputs": [],
   "source": [
    "import os\n",
    "\n",
    "# obtener el directorio actual\n",
    "cwd = os.getcwd()\n",
    "\n",
    "# foto que vamos a procesar\n",
    "video_path = os.path.join(cwd, \"..\", \"assets\", \"dump-truck-loading-material.mp4\")\n",
    "\n",
    "# ubicacion del modelo base de yolo\n",
    "model_path = os.path.join(cwd, \"..\", \"weights\", \"materials\", \"materials.pt\")\n",
    "\n",
    "# ubicacion de salida\n",
    "output_path = os.path.join(cwd, \"..\", \"output\")\n",
    "\n",
    "# ubicacion de video de salida ya con anotaciones\n",
    "output_video_path = os.path.join(output_path, \"dump-truck-loading-material-annotated.mp4\")"
   ]
  },
  {
   "cell_type": "code",
   "execution_count": null,
   "metadata": {},
   "outputs": [],
   "source": [
    "\n",
    "# cargar modelo\n",
    "model = ultralytics.YOLO(model_path)\n",
    "\n",
    "# anotador que nos permite aplicar las predicciones a la imagen para visualizarlas\n",
    "annotator = sv.BoxAnnotator()\n",
    "\n",
    "# byte tracker nos permite mantener track de los objetos que se van detectando en el video\n",
    "byte_tracker = sv.ByteTrack()\n",
    "\n",
    "# esta funcion se manda llamar por cada frame del video\n",
    "def callback(frame: np.ndarray, index: int) -> np.ndarray:\n",
    "    # inferencia y obtener predicciones\n",
    "    results = model(frame)\n",
    "\n",
    "    # como solo tenemos un frame, solo tomamos el primer resultado de la lista\n",
    "    first_frame_results = results[0]\n",
    "\n",
    "    # convertir las predicciones a un objeto de supervision que servira para visualizarlas\n",
    "    detections = sv.Detections.from_ultralytics(first_frame_results)\n",
    "    detections = byte_tracker.update_with_detections(detections)\n",
    "\n",
    "    # agregar etiquetas para facilitar saber que se esta detectando\n",
    "    labels = [\n",
    "        # imprimimos la clase en texto y la confianza que el modelo tiene en su prediccion\n",
    "        f\"{model.model.names[class_id]} {confidence:0.2f}\"\n",
    "        for _, _, confidence, class_id, _\n",
    "        in detections\n",
    "    ]\n",
    "\n",
    "    return annotator.annotate(scene=frame.copy(), detections=detections, labels=labels)\n",
    "\n",
    "sv.process_video(\n",
    "    source_path=video_path,\n",
    "    target_path=output_video_path,\n",
    "    callback=callback,\n",
    ")"
   ]
  }
 ],
 "metadata": {
  "kernelspec": {
   "display_name": "Python 3",
   "language": "python",
   "name": "python3"
  },
  "language_info": {
   "codemirror_mode": {
    "name": "ipython",
    "version": 3
   },
   "file_extension": ".py",
   "mimetype": "text/x-python",
   "name": "python",
   "nbconvert_exporter": "python",
   "pygments_lexer": "ipython3",
   "version": "3.11.0"
  },
  "orig_nbformat": 4
 },
 "nbformat": 4,
 "nbformat_minor": 2
}
